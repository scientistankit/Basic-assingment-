{
 "cells": [
  {
   "cell_type": "markdown",
   "id": "4c2fe622",
   "metadata": {},
   "source": [
    "## Various data types "
   ]
  },
  {
   "cell_type": "markdown",
   "id": "4d3e472f",
   "metadata": {},
   "source": [
    "Number \n"
   ]
  },
  {
   "cell_type": "code",
   "execution_count": 3,
   "id": "cfb10db7",
   "metadata": {},
   "outputs": [
    {
     "data": {
      "text/plain": [
       "2"
      ]
     },
     "execution_count": 3,
     "metadata": {},
     "output_type": "execute_result"
    }
   ],
   "source": [
    "1+1"
   ]
  },
  {
   "cell_type": "code",
   "execution_count": 7,
   "id": "8e1a2f46",
   "metadata": {},
   "outputs": [
    {
     "data": {
      "text/plain": [
       "20"
      ]
     },
     "execution_count": 7,
     "metadata": {},
     "output_type": "execute_result"
    }
   ],
   "source": [
    " 4*5"
   ]
  },
  {
   "cell_type": "code",
   "execution_count": 8,
   "id": "08078118",
   "metadata": {},
   "outputs": [
    {
     "data": {
      "text/plain": [
       "20"
      ]
     },
     "execution_count": 8,
     "metadata": {},
     "output_type": "execute_result"
    }
   ],
   "source": [
    "2*10"
   ]
  },
  {
   "cell_type": "code",
   "execution_count": 9,
   "id": "a82f5cc7",
   "metadata": {},
   "outputs": [
    {
     "data": {
      "text/plain": [
       "5.0"
      ]
     },
     "execution_count": 9,
     "metadata": {},
     "output_type": "execute_result"
    }
   ],
   "source": [
    "10/2"
   ]
  },
  {
   "cell_type": "code",
   "execution_count": 10,
   "id": "d9233834",
   "metadata": {},
   "outputs": [
    {
     "data": {
      "text/plain": [
       "0"
      ]
     },
     "execution_count": 10,
     "metadata": {},
     "output_type": "execute_result"
    }
   ],
   "source": [
    "10%2"
   ]
  },
  {
   "cell_type": "code",
   "execution_count": 11,
   "id": "5dfaea27",
   "metadata": {},
   "outputs": [
    {
     "data": {
      "text/plain": [
       "20"
      ]
     },
     "execution_count": 11,
     "metadata": {},
     "output_type": "execute_result"
    }
   ],
   "source": [
    "10*2"
   ]
  },
  {
   "cell_type": "code",
   "execution_count": 12,
   "id": "18ef5bb3",
   "metadata": {},
   "outputs": [
    {
     "data": {
      "text/plain": [
       "100"
      ]
     },
     "execution_count": 12,
     "metadata": {},
     "output_type": "execute_result"
    }
   ],
   "source": [
    "10**2"
   ]
  },
  {
   "cell_type": "code",
   "execution_count": 16,
   "id": "44b2c683",
   "metadata": {},
   "outputs": [
    {
     "data": {
      "text/plain": [
       "'StrStrStrStrStrStrStrStrStrStr'"
      ]
     },
     "execution_count": 16,
     "metadata": {},
     "output_type": "execute_result"
    }
   ],
   "source": [
    "10* 'Str'"
   ]
  },
  {
   "cell_type": "code",
   "execution_count": 15,
   "id": "8643b26c",
   "metadata": {},
   "outputs": [],
   "source": [
    "# Check the data type"
   ]
  },
  {
   "cell_type": "code",
   "execution_count": 18,
   "id": "a55dff5f",
   "metadata": {},
   "outputs": [
    {
     "data": {
      "text/plain": [
       "bool"
      ]
     },
     "execution_count": 18,
     "metadata": {},
     "output_type": "execute_result"
    }
   ],
   "source": [
    "type(True)"
   ]
  },
  {
   "cell_type": "code",
   "execution_count": 19,
   "id": "202e2bb5",
   "metadata": {},
   "outputs": [
    {
     "data": {
      "text/plain": [
       "str"
      ]
     },
     "execution_count": 19,
     "metadata": {},
     "output_type": "execute_result"
    }
   ],
   "source": [
    "type(\"Hello\")"
   ]
  },
  {
   "cell_type": "markdown",
   "id": "bff5e4aa",
   "metadata": {},
   "source": [
    "# Strings \n"
   ]
  },
  {
   "cell_type": "code",
   "execution_count": 1,
   "id": "69cf9f19",
   "metadata": {},
   "outputs": [
    {
     "data": {
      "text/plain": [
       "'Hello'"
      ]
     },
     "execution_count": 1,
     "metadata": {},
     "output_type": "execute_result"
    }
   ],
   "source": [
    "\"Hello\""
   ]
  },
  {
   "cell_type": "code",
   "execution_count": 2,
   "id": "effbe8b9",
   "metadata": {},
   "outputs": [
    {
     "data": {
      "text/plain": [
       "'Ankit Sharma'"
      ]
     },
     "execution_count": 2,
     "metadata": {},
     "output_type": "execute_result"
    }
   ],
   "source": [
    "'Ankit Sharma'"
   ]
  },
  {
   "cell_type": "code",
   "execution_count": 3,
   "id": "72f45075",
   "metadata": {},
   "outputs": [
    {
     "data": {
      "text/plain": [
       "str"
      ]
     },
     "execution_count": 3,
     "metadata": {},
     "output_type": "execute_result"
    }
   ],
   "source": [
    "type('Ankit Sharma')"
   ]
  },
  {
   "cell_type": "markdown",
   "id": "03b9fd5c",
   "metadata": {},
   "source": [
    "# Variable Assigment"
   ]
  },
  {
   "cell_type": "code",
   "execution_count": 4,
   "id": "b49b6f12",
   "metadata": {},
   "outputs": [],
   "source": [
    "# syntax\n",
    "# var_name-values \n",
    "\n",
    "a=10"
   ]
  },
  {
   "cell_type": "code",
   "execution_count": 5,
   "id": "71e09347",
   "metadata": {},
   "outputs": [
    {
     "data": {
      "text/plain": [
       "int"
      ]
     },
     "execution_count": 5,
     "metadata": {},
     "output_type": "execute_result"
    }
   ],
   "source": [
    "type(a)"
   ]
  },
  {
   "cell_type": "code",
   "execution_count": 6,
   "id": "7b8c7c06",
   "metadata": {},
   "outputs": [],
   "source": [
    "a= 'Ankit Sharma'"
   ]
  },
  {
   "cell_type": "code",
   "execution_count": 7,
   "id": "a1d0344e",
   "metadata": {},
   "outputs": [
    {
     "data": {
      "text/plain": [
       "str"
      ]
     },
     "execution_count": 7,
     "metadata": {},
     "output_type": "execute_result"
    }
   ],
   "source": [
    "type(a)"
   ]
  },
  {
   "cell_type": "code",
   "execution_count": 8,
   "id": "4c98a370",
   "metadata": {},
   "outputs": [],
   "source": [
    "## MAthematical operation with variable assigment \n",
    "a=10\n",
    "b=30"
   ]
  },
  {
   "cell_type": "code",
   "execution_count": 15,
   "id": "77e25e43",
   "metadata": {},
   "outputs": [
    {
     "name": "stdout",
     "output_type": "stream",
     "text": [
      "300\n",
      "0.3333333333333333\n",
      "40\n",
      "-20\n",
      "1000000000000000000000000000000\n",
      "10\n",
      "600\n"
     ]
    }
   ],
   "source": [
    "print(a*b)\n",
    "print(a/b)\n",
    "print(a+b)\n",
    "print(a-b)\n",
    "print(a**b)\n",
    "print(a%b)\n",
    "print((a*b)+(a*b)) # BODMAS"
   ]
  },
  {
   "cell_type": "code",
   "execution_count": 16,
   "id": "796f3883",
   "metadata": {},
   "outputs": [
    {
     "name": "stdout",
     "output_type": "stream",
     "text": [
      "Hello\n"
     ]
    }
   ],
   "source": [
    "# VAriable ways of printing \n",
    "\n",
    "print(\"Hello\")"
   ]
  },
  {
   "cell_type": "code",
   "execution_count": 18,
   "id": "1dd9a46e",
   "metadata": {},
   "outputs": [],
   "source": [
    "first_name= \"Ankit\"\n",
    "last_name= \"Sharma\"\n"
   ]
  },
  {
   "cell_type": "code",
   "execution_count": 25,
   "id": "8dd069cb",
   "metadata": {},
   "outputs": [
    {
     "name": "stdout",
     "output_type": "stream",
     "text": [
      "My first name is Ankit and last name is Sharma\n"
     ]
    }
   ],
   "source": [
    "print('My first name is {} and last name is {}'. format(first_name,last_name))"
   ]
  },
  {
   "cell_type": "code",
   "execution_count": 23,
   "id": "0c791c31",
   "metadata": {},
   "outputs": [
    {
     "name": "stdout",
     "output_type": "stream",
     "text": [
      "My first name is Ankit and last name is Sharma\n"
     ]
    }
   ],
   "source": [
    "print(\"My first name is {first} and last name is {last}\". format (first=first_name,last=last_name))"
   ]
  },
  {
   "cell_type": "code",
   "execution_count": 26,
   "id": "34626dd4",
   "metadata": {},
   "outputs": [
    {
     "data": {
      "text/plain": [
       "5"
      ]
     },
     "execution_count": 26,
     "metadata": {},
     "output_type": "execute_result"
    }
   ],
   "source": [
    "len(\"ankit\")"
   ]
  },
  {
   "cell_type": "code",
   "execution_count": 27,
   "id": "694ca2b7",
   "metadata": {},
   "outputs": [
    {
     "data": {
      "text/plain": [
       "float"
      ]
     },
     "execution_count": 27,
     "metadata": {},
     "output_type": "execute_result"
    }
   ],
   "source": [
    "type(1.0)"
   ]
  },
  {
   "cell_type": "code",
   "execution_count": 32,
   "id": "22c92dad",
   "metadata": {},
   "outputs": [
    {
     "data": {
      "text/plain": [
       "list"
      ]
     },
     "execution_count": 32,
     "metadata": {},
     "output_type": "execute_result"
    }
   ],
   "source": [
    "type([2,3.4,5,6])"
   ]
  },
  {
   "cell_type": "code",
   "execution_count": null,
   "id": "1db99aa1",
   "metadata": {},
   "outputs": [],
   "source": []
  },
  {
   "cell_type": "code",
   "execution_count": null,
   "id": "e62eeb1d",
   "metadata": {},
   "outputs": [],
   "source": []
  }
 ],
 "metadata": {
  "kernelspec": {
   "display_name": "Python 3",
   "language": "python",
   "name": "python3"
  },
  "language_info": {
   "codemirror_mode": {
    "name": "ipython",
    "version": 3
   },
   "file_extension": ".py",
   "mimetype": "text/x-python",
   "name": "python",
   "nbconvert_exporter": "python",
   "pygments_lexer": "ipython3",
   "version": "3.8.8"
  }
 },
 "nbformat": 4,
 "nbformat_minor": 5
}
